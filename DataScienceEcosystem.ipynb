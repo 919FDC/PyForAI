{
 "cells": [
  {
   "cell_type": "markdown",
   "id": "900617cc-99a7-41f0-847f-7e8f4b1b0e2b",
   "metadata": {
    "tags": []
   },
   "source": [
    "# Data Science Tools and Ecosystem"
   ]
  },
  {
   "cell_type": "markdown",
   "id": "c51e4d71-5aef-4b48-9c14-3e3c9aaf45cc",
   "metadata": {},
   "source": [
    "## In this notebook, Data Science Tools and Ecosystem are summarized."
   ]
  },
  {
   "cell_type": "markdown",
   "id": "6f79f405-9f53-489f-9e49-0103a0625fe8",
   "metadata": {},
   "source": [
    "### **Objectives:** \n",
    "- List popular languages for Data Science.\n",
    "- List commonly used libraries for Data Science.\n",
    "- List commonly used open-source Data Science Tools\n",
    "- Work with markdown in jupyter notebooks\n",
    "- Introduce simple arithmetic expressions in Python"
   ]
  },
  {
   "cell_type": "markdown",
   "id": "5c6f330b-8950-4f45-aea1-c1dc173d1bd3",
   "metadata": {},
   "source": [
    "## Some of the popular languages that Data Scientists use are:\n",
    "1. Python\n",
    "2. R\n",
    "3. Jave\n",
    "4. Julia\n",
    "5. SQL\n",
    "6. Scala\n",
    "7. C++"
   ]
  },
  {
   "cell_type": "markdown",
   "id": "f9c170c7-be26-4f89-89c8-ee0ffc4fb9e9",
   "metadata": {},
   "source": [
    "## Some of the commonly used libraries used by Data Scientists include:\n",
    "1. SciPy\n",
    "2. Pandas\n",
    "3. NumPy\n",
    "4. MatplotlibSciPy"
   ]
  },
  {
   "cell_type": "markdown",
   "id": "7b8626bc-47c9-4966-a7a9-7a159c8bae1f",
   "metadata": {},
   "source": [
    "| Data Science Tools |\n",
    "| --- |\n",
    "| TensorFlow |\n",
    "| Scikit |\n",
    "|  Apache Spark |\n",
    "\n"
   ]
  },
  {
   "cell_type": "markdown",
   "id": "17082904-e032-4a14-a650-64909bbaa021",
   "metadata": {},
   "source": [
    "### Below are a few examples of evaluating arithmetic expressions in Python."
   ]
  },
  {
   "cell_type": "code",
   "execution_count": 12,
   "id": "662501e2-d958-4f88-acc5-0a38a3e1f8f9",
   "metadata": {},
   "outputs": [
    {
     "data": {
      "text/plain": [
       "4"
      ]
     },
     "execution_count": 12,
     "metadata": {},
     "output_type": "execute_result"
    }
   ],
   "source": [
    "# Addition operation\n",
    "1+3"
   ]
  },
  {
   "cell_type": "code",
   "execution_count": 13,
   "id": "8330dc01-bdbb-4fd2-9896-3e38d63e659e",
   "metadata": {},
   "outputs": [
    {
     "data": {
      "text/plain": [
       "4.24"
      ]
     },
     "execution_count": 13,
     "metadata": {},
     "output_type": "execute_result"
    }
   ],
   "source": [
    "# Multiplication operation\n",
    "1.1+3.14"
   ]
  },
  {
   "cell_type": "code",
   "execution_count": 14,
   "id": "16ae3260-ca36-4874-92f1-5741ad337a03",
   "metadata": {},
   "outputs": [
    {
     "data": {
      "text/plain": [
       "17"
      ]
     },
     "execution_count": 14,
     "metadata": {},
     "output_type": "execute_result"
    }
   ],
   "source": [
    "# This a simple arithmetic expression to mutiply then add integers.\n",
    "(3*4)+5"
   ]
  },
  {
   "cell_type": "code",
   "execution_count": 15,
   "id": "249248cd-97eb-4ed1-bdf6-700003d8bd1d",
   "metadata": {},
   "outputs": [
    {
     "data": {
      "text/plain": [
       "3.3333333333333335"
      ]
     },
     "execution_count": 15,
     "metadata": {},
     "output_type": "execute_result"
    }
   ],
   "source": [
    "#  This will convert 200 minutes to hours by diving by 60.\n",
    "200/60"
   ]
  },
  {
   "cell_type": "markdown",
   "id": "efeecd84-5362-40ab-a9cf-b9c2195c95e6",
   "metadata": {},
   "source": [
    "## Author\n",
    "Frank D."
   ]
  }
 ],
 "metadata": {
  "kernelspec": {
   "display_name": "Python 3 (ipykernel)",
   "language": "python",
   "name": "python3"
  },
  "language_info": {
   "codemirror_mode": {
    "name": "ipython",
    "version": 3
   },
   "file_extension": ".py",
   "mimetype": "text/x-python",
   "name": "python",
   "nbconvert_exporter": "python",
   "pygments_lexer": "ipython3",
   "version": "3.10.8"
  }
 },
 "nbformat": 4,
 "nbformat_minor": 5
}
